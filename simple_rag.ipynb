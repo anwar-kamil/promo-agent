{
 "cells": [
  {
   "cell_type": "code",
   "execution_count": 2,
   "id": "61f337ee-4c53-4dea-ae0c-e44cbe8093b7",
   "metadata": {
    "scrolled": true
   },
   "outputs": [
    {
     "name": "stdout",
     "output_type": "stream",
     "text": [
      "Requirement already satisfied: beautifulsoup4 in e:\\ides-tools\\anaconda\\envs\\rag-env\\lib\\site-packages (4.12.3)\n",
      "Requirement already satisfied: soupsieve>1.2 in e:\\ides-tools\\anaconda\\envs\\rag-env\\lib\\site-packages (from beautifulsoup4) (2.6)\n",
      "Requirement already satisfied: langchain in e:\\ides-tools\\anaconda\\envs\\rag-env\\lib\\site-packages (0.3.0)\n",
      "Requirement already satisfied: PyYAML>=5.3 in e:\\ides-tools\\anaconda\\envs\\rag-env\\lib\\site-packages (from langchain) (6.0.2)\n",
      "Requirement already satisfied: SQLAlchemy<3,>=1.4 in e:\\ides-tools\\anaconda\\envs\\rag-env\\lib\\site-packages (from langchain) (2.0.34)\n",
      "Requirement already satisfied: aiohttp<4.0.0,>=3.8.3 in e:\\ides-tools\\anaconda\\envs\\rag-env\\lib\\site-packages (from langchain) (3.10.5)\n",
      "Requirement already satisfied: async-timeout<5.0.0,>=4.0.0 in e:\\ides-tools\\anaconda\\envs\\rag-env\\lib\\site-packages (from langchain) (4.0.3)\n",
      "Requirement already satisfied: langchain-core<0.4.0,>=0.3.0 in e:\\ides-tools\\anaconda\\envs\\rag-env\\lib\\site-packages (from langchain) (0.3.0)\n",
      "Requirement already satisfied: langchain-text-splitters<0.4.0,>=0.3.0 in e:\\ides-tools\\anaconda\\envs\\rag-env\\lib\\site-packages (from langchain) (0.3.0)\n",
      "Requirement already satisfied: langsmith<0.2.0,>=0.1.17 in e:\\ides-tools\\anaconda\\envs\\rag-env\\lib\\site-packages (from langchain) (0.1.120)\n",
      "Requirement already satisfied: numpy<2,>=1 in e:\\ides-tools\\anaconda\\envs\\rag-env\\lib\\site-packages (from langchain) (1.26.4)\n",
      "Requirement already satisfied: pydantic<3.0.0,>=2.7.4 in e:\\ides-tools\\anaconda\\envs\\rag-env\\lib\\site-packages (from langchain) (2.9.1)\n",
      "Requirement already satisfied: requests<3,>=2 in c:\\users\\cantt computer\\appdata\\roaming\\python\\python310\\site-packages (from langchain) (2.31.0)\n",
      "Requirement already satisfied: tenacity!=8.4.0,<9.0.0,>=8.1.0 in e:\\ides-tools\\anaconda\\envs\\rag-env\\lib\\site-packages (from langchain) (8.5.0)\n",
      "Requirement already satisfied: aiohappyeyeballs>=2.3.0 in e:\\ides-tools\\anaconda\\envs\\rag-env\\lib\\site-packages (from aiohttp<4.0.0,>=3.8.3->langchain) (2.4.0)\n",
      "Requirement already satisfied: aiosignal>=1.1.2 in e:\\ides-tools\\anaconda\\envs\\rag-env\\lib\\site-packages (from aiohttp<4.0.0,>=3.8.3->langchain) (1.3.1)\n",
      "Requirement already satisfied: attrs>=17.3.0 in c:\\users\\cantt computer\\appdata\\roaming\\python\\python310\\site-packages (from aiohttp<4.0.0,>=3.8.3->langchain) (23.1.0)\n",
      "Requirement already satisfied: frozenlist>=1.1.1 in e:\\ides-tools\\anaconda\\envs\\rag-env\\lib\\site-packages (from aiohttp<4.0.0,>=3.8.3->langchain) (1.4.1)\n",
      "Requirement already satisfied: multidict<7.0,>=4.5 in e:\\ides-tools\\anaconda\\envs\\rag-env\\lib\\site-packages (from aiohttp<4.0.0,>=3.8.3->langchain) (6.1.0)\n",
      "Requirement already satisfied: yarl<2.0,>=1.0 in e:\\ides-tools\\anaconda\\envs\\rag-env\\lib\\site-packages (from aiohttp<4.0.0,>=3.8.3->langchain) (1.11.1)\n",
      "Requirement already satisfied: jsonpatch<2.0,>=1.33 in e:\\ides-tools\\anaconda\\envs\\rag-env\\lib\\site-packages (from langchain-core<0.4.0,>=0.3.0->langchain) (1.33)\n",
      "Requirement already satisfied: packaging<25,>=23.2 in e:\\ides-tools\\anaconda\\envs\\rag-env\\lib\\site-packages (from langchain-core<0.4.0,>=0.3.0->langchain) (24.1)\n",
      "Requirement already satisfied: typing-extensions>=4.7 in e:\\ides-tools\\anaconda\\envs\\rag-env\\lib\\site-packages (from langchain-core<0.4.0,>=0.3.0->langchain) (4.12.2)\n",
      "Requirement already satisfied: httpx<1,>=0.23.0 in e:\\ides-tools\\anaconda\\envs\\rag-env\\lib\\site-packages (from langsmith<0.2.0,>=0.1.17->langchain) (0.27.2)\n",
      "Requirement already satisfied: orjson<4.0.0,>=3.9.14 in e:\\ides-tools\\anaconda\\envs\\rag-env\\lib\\site-packages (from langsmith<0.2.0,>=0.1.17->langchain) (3.10.7)\n",
      "Requirement already satisfied: annotated-types>=0.6.0 in e:\\ides-tools\\anaconda\\envs\\rag-env\\lib\\site-packages (from pydantic<3.0.0,>=2.7.4->langchain) (0.7.0)\n",
      "Requirement already satisfied: pydantic-core==2.23.3 in e:\\ides-tools\\anaconda\\envs\\rag-env\\lib\\site-packages (from pydantic<3.0.0,>=2.7.4->langchain) (2.23.3)\n",
      "Requirement already satisfied: charset-normalizer<4,>=2 in e:\\ides-tools\\anaconda\\envs\\rag-env\\lib\\site-packages (from requests<3,>=2->langchain) (3.3.2)\n",
      "Requirement already satisfied: idna<4,>=2.5 in e:\\ides-tools\\anaconda\\envs\\rag-env\\lib\\site-packages (from requests<3,>=2->langchain) (3.10)\n",
      "Requirement already satisfied: urllib3<3,>=1.21.1 in e:\\ides-tools\\anaconda\\envs\\rag-env\\lib\\site-packages (from requests<3,>=2->langchain) (2.2.3)\n",
      "Requirement already satisfied: certifi>=2017.4.17 in c:\\users\\cantt computer\\appdata\\roaming\\python\\python310\\site-packages (from requests<3,>=2->langchain) (2023.5.7)\n",
      "Requirement already satisfied: greenlet!=0.4.17 in e:\\ides-tools\\anaconda\\envs\\rag-env\\lib\\site-packages (from SQLAlchemy<3,>=1.4->langchain) (3.1.0)\n",
      "Requirement already satisfied: anyio in e:\\ides-tools\\anaconda\\envs\\rag-env\\lib\\site-packages (from httpx<1,>=0.23.0->langsmith<0.2.0,>=0.1.17->langchain) (4.4.0)\n",
      "Requirement already satisfied: httpcore==1.* in e:\\ides-tools\\anaconda\\envs\\rag-env\\lib\\site-packages (from httpx<1,>=0.23.0->langsmith<0.2.0,>=0.1.17->langchain) (1.0.5)\n",
      "Requirement already satisfied: sniffio in e:\\ides-tools\\anaconda\\envs\\rag-env\\lib\\site-packages (from httpx<1,>=0.23.0->langsmith<0.2.0,>=0.1.17->langchain) (1.3.1)\n",
      "Requirement already satisfied: h11<0.15,>=0.13 in e:\\ides-tools\\anaconda\\envs\\rag-env\\lib\\site-packages (from httpcore==1.*->httpx<1,>=0.23.0->langsmith<0.2.0,>=0.1.17->langchain) (0.14.0)\n",
      "Requirement already satisfied: jsonpointer>=1.9 in e:\\ides-tools\\anaconda\\envs\\rag-env\\lib\\site-packages (from jsonpatch<2.0,>=1.33->langchain-core<0.4.0,>=0.3.0->langchain) (3.0.0)\n",
      "Requirement already satisfied: exceptiongroup>=1.0.2 in e:\\ides-tools\\anaconda\\envs\\rag-env\\lib\\site-packages (from anyio->httpx<1,>=0.23.0->langsmith<0.2.0,>=0.1.17->langchain) (1.2.2)\n",
      "Requirement already satisfied: langchainhub in e:\\ides-tools\\anaconda\\envs\\rag-env\\lib\\site-packages (0.1.21)\n",
      "Requirement already satisfied: packaging<25,>=23.2 in e:\\ides-tools\\anaconda\\envs\\rag-env\\lib\\site-packages (from langchainhub) (24.1)\n",
      "Requirement already satisfied: requests<3,>=2 in c:\\users\\cantt computer\\appdata\\roaming\\python\\python310\\site-packages (from langchainhub) (2.31.0)\n",
      "Requirement already satisfied: types-requests<3.0.0.0,>=2.31.0.2 in e:\\ides-tools\\anaconda\\envs\\rag-env\\lib\\site-packages (from langchainhub) (2.32.0.20240914)\n",
      "Requirement already satisfied: charset-normalizer<4,>=2 in e:\\ides-tools\\anaconda\\envs\\rag-env\\lib\\site-packages (from requests<3,>=2->langchainhub) (3.3.2)\n",
      "Requirement already satisfied: idna<4,>=2.5 in e:\\ides-tools\\anaconda\\envs\\rag-env\\lib\\site-packages (from requests<3,>=2->langchainhub) (3.10)\n",
      "Requirement already satisfied: urllib3<3,>=1.21.1 in e:\\ides-tools\\anaconda\\envs\\rag-env\\lib\\site-packages (from requests<3,>=2->langchainhub) (2.2.3)\n",
      "Requirement already satisfied: certifi>=2017.4.17 in c:\\users\\cantt computer\\appdata\\roaming\\python\\python310\\site-packages (from requests<3,>=2->langchainhub) (2023.5.7)\n",
      "Requirement already satisfied: chromadb in e:\\ides-tools\\anaconda\\envs\\rag-env\\lib\\site-packages (0.5.5)\n",
      "Requirement already satisfied: build>=1.0.3 in e:\\ides-tools\\anaconda\\envs\\rag-env\\lib\\site-packages (from chromadb) (1.2.2)\n",
      "Requirement already satisfied: pydantic>=1.9 in e:\\ides-tools\\anaconda\\envs\\rag-env\\lib\\site-packages (from chromadb) (2.9.1)\n",
      "Requirement already satisfied: chroma-hnswlib==0.7.6 in e:\\ides-tools\\anaconda\\envs\\rag-env\\lib\\site-packages (from chromadb) (0.7.6)\n",
      "Requirement already satisfied: fastapi>=0.95.2 in e:\\ides-tools\\anaconda\\envs\\rag-env\\lib\\site-packages (from chromadb) (0.114.2)\n",
      "Requirement already satisfied: uvicorn>=0.18.3 in e:\\ides-tools\\anaconda\\envs\\rag-env\\lib\\site-packages (from uvicorn[standard]>=0.18.3->chromadb) (0.30.6)\n",
      "Requirement already satisfied: numpy<2.0.0,>=1.22.5 in e:\\ides-tools\\anaconda\\envs\\rag-env\\lib\\site-packages (from chromadb) (1.26.4)\n",
      "Requirement already satisfied: posthog>=2.4.0 in e:\\ides-tools\\anaconda\\envs\\rag-env\\lib\\site-packages (from chromadb) (3.6.5)\n",
      "Requirement already satisfied: typing-extensions>=4.5.0 in e:\\ides-tools\\anaconda\\envs\\rag-env\\lib\\site-packages (from chromadb) (4.12.2)\n",
      "Requirement already satisfied: onnxruntime>=1.14.1 in e:\\ides-tools\\anaconda\\envs\\rag-env\\lib\\site-packages (from chromadb) (1.19.2)\n",
      "Requirement already satisfied: opentelemetry-api>=1.2.0 in e:\\ides-tools\\anaconda\\envs\\rag-env\\lib\\site-packages (from chromadb) (1.27.0)\n",
      "Requirement already satisfied: opentelemetry-exporter-otlp-proto-grpc>=1.2.0 in e:\\ides-tools\\anaconda\\envs\\rag-env\\lib\\site-packages (from chromadb) (1.27.0)\n",
      "Requirement already satisfied: opentelemetry-instrumentation-fastapi>=0.41b0 in e:\\ides-tools\\anaconda\\envs\\rag-env\\lib\\site-packages (from chromadb) (0.48b0)\n",
      "Requirement already satisfied: opentelemetry-sdk>=1.2.0 in e:\\ides-tools\\anaconda\\envs\\rag-env\\lib\\site-packages (from chromadb) (1.27.0)\n",
      "Requirement already satisfied: tokenizers>=0.13.2 in e:\\ides-tools\\anaconda\\envs\\rag-env\\lib\\site-packages (from chromadb) (0.20.0)\n",
      "Requirement already satisfied: pypika>=0.48.9 in e:\\ides-tools\\anaconda\\envs\\rag-env\\lib\\site-packages (from chromadb) (0.48.9)\n",
      "Requirement already satisfied: tqdm>=4.65.0 in e:\\ides-tools\\anaconda\\envs\\rag-env\\lib\\site-packages (from chromadb) (4.66.5)\n",
      "Requirement already satisfied: overrides>=7.3.1 in e:\\ides-tools\\anaconda\\envs\\rag-env\\lib\\site-packages (from chromadb) (7.7.0)\n",
      "Requirement already satisfied: importlib-resources in e:\\ides-tools\\anaconda\\envs\\rag-env\\lib\\site-packages (from chromadb) (6.4.5)\n",
      "Requirement already satisfied: grpcio>=1.58.0 in e:\\ides-tools\\anaconda\\envs\\rag-env\\lib\\site-packages (from chromadb) (1.66.1)\n",
      "Requirement already satisfied: bcrypt>=4.0.1 in e:\\ides-tools\\anaconda\\envs\\rag-env\\lib\\site-packages (from chromadb) (4.2.0)\n",
      "Requirement already satisfied: typer>=0.9.0 in e:\\ides-tools\\anaconda\\envs\\rag-env\\lib\\site-packages (from chromadb) (0.12.5)\n",
      "Requirement already satisfied: kubernetes>=28.1.0 in e:\\ides-tools\\anaconda\\envs\\rag-env\\lib\\site-packages (from chromadb) (30.1.0)\n",
      "Requirement already satisfied: tenacity>=8.2.3 in e:\\ides-tools\\anaconda\\envs\\rag-env\\lib\\site-packages (from chromadb) (8.5.0)\n",
      "Requirement already satisfied: PyYAML>=6.0.0 in e:\\ides-tools\\anaconda\\envs\\rag-env\\lib\\site-packages (from chromadb) (6.0.2)\n",
      "Requirement already satisfied: mmh3>=4.0.1 in e:\\ides-tools\\anaconda\\envs\\rag-env\\lib\\site-packages (from chromadb) (4.1.0)\n",
      "Requirement already satisfied: orjson>=3.9.12 in e:\\ides-tools\\anaconda\\envs\\rag-env\\lib\\site-packages (from chromadb) (3.10.7)\n",
      "Requirement already satisfied: httpx>=0.27.0 in e:\\ides-tools\\anaconda\\envs\\rag-env\\lib\\site-packages (from chromadb) (0.27.2)\n",
      "Requirement already satisfied: packaging>=19.1 in e:\\ides-tools\\anaconda\\envs\\rag-env\\lib\\site-packages (from build>=1.0.3->chromadb) (24.1)\n",
      "Requirement already satisfied: pyproject_hooks in e:\\ides-tools\\anaconda\\envs\\rag-env\\lib\\site-packages (from build>=1.0.3->chromadb) (1.1.0)\n",
      "Requirement already satisfied: colorama in c:\\users\\cantt computer\\appdata\\roaming\\python\\python310\\site-packages (from build>=1.0.3->chromadb) (0.4.6)\n",
      "Requirement already satisfied: tomli>=1.1.0 in e:\\ides-tools\\anaconda\\envs\\rag-env\\lib\\site-packages (from build>=1.0.3->chromadb) (2.0.1)\n",
      "Requirement already satisfied: starlette<0.39.0,>=0.37.2 in e:\\ides-tools\\anaconda\\envs\\rag-env\\lib\\site-packages (from fastapi>=0.95.2->chromadb) (0.38.5)\n",
      "Requirement already satisfied: anyio in e:\\ides-tools\\anaconda\\envs\\rag-env\\lib\\site-packages (from httpx>=0.27.0->chromadb) (4.4.0)\n",
      "Requirement already satisfied: certifi in c:\\users\\cantt computer\\appdata\\roaming\\python\\python310\\site-packages (from httpx>=0.27.0->chromadb) (2023.5.7)\n",
      "Requirement already satisfied: httpcore==1.* in e:\\ides-tools\\anaconda\\envs\\rag-env\\lib\\site-packages (from httpx>=0.27.0->chromadb) (1.0.5)\n",
      "Requirement already satisfied: idna in e:\\ides-tools\\anaconda\\envs\\rag-env\\lib\\site-packages (from httpx>=0.27.0->chromadb) (3.10)\n",
      "Requirement already satisfied: sniffio in e:\\ides-tools\\anaconda\\envs\\rag-env\\lib\\site-packages (from httpx>=0.27.0->chromadb) (1.3.1)\n",
      "Requirement already satisfied: h11<0.15,>=0.13 in e:\\ides-tools\\anaconda\\envs\\rag-env\\lib\\site-packages (from httpcore==1.*->httpx>=0.27.0->chromadb) (0.14.0)\n",
      "Requirement already satisfied: six>=1.9.0 in e:\\ides-tools\\anaconda\\envs\\rag-env\\lib\\site-packages (from kubernetes>=28.1.0->chromadb) (1.16.0)\n",
      "Requirement already satisfied: python-dateutil>=2.5.3 in e:\\ides-tools\\anaconda\\envs\\rag-env\\lib\\site-packages (from kubernetes>=28.1.0->chromadb) (2.9.0)\n",
      "Requirement already satisfied: google-auth>=1.0.1 in e:\\ides-tools\\anaconda\\envs\\rag-env\\lib\\site-packages (from kubernetes>=28.1.0->chromadb) (2.34.0)\n",
      "Requirement already satisfied: websocket-client!=0.40.0,!=0.41.*,!=0.42.*,>=0.32.0 in e:\\ides-tools\\anaconda\\envs\\rag-env\\lib\\site-packages (from kubernetes>=28.1.0->chromadb) (1.8.0)\n",
      "Requirement already satisfied: requests in c:\\users\\cantt computer\\appdata\\roaming\\python\\python310\\site-packages (from kubernetes>=28.1.0->chromadb) (2.31.0)\n",
      "Requirement already satisfied: requests-oauthlib in e:\\ides-tools\\anaconda\\envs\\rag-env\\lib\\site-packages (from kubernetes>=28.1.0->chromadb) (2.0.0)\n",
      "Requirement already satisfied: oauthlib>=3.2.2 in e:\\ides-tools\\anaconda\\envs\\rag-env\\lib\\site-packages (from kubernetes>=28.1.0->chromadb) (3.2.2)\n",
      "Requirement already satisfied: urllib3>=1.24.2 in e:\\ides-tools\\anaconda\\envs\\rag-env\\lib\\site-packages (from kubernetes>=28.1.0->chromadb) (2.2.3)\n",
      "Requirement already satisfied: coloredlogs in e:\\ides-tools\\anaconda\\envs\\rag-env\\lib\\site-packages (from onnxruntime>=1.14.1->chromadb) (15.0.1)\n",
      "Requirement already satisfied: flatbuffers in e:\\ides-tools\\anaconda\\envs\\rag-env\\lib\\site-packages (from onnxruntime>=1.14.1->chromadb) (24.3.25)\n",
      "Requirement already satisfied: protobuf in e:\\ides-tools\\anaconda\\envs\\rag-env\\lib\\site-packages (from onnxruntime>=1.14.1->chromadb) (4.25.4)\n",
      "Requirement already satisfied: sympy in e:\\ides-tools\\anaconda\\envs\\rag-env\\lib\\site-packages (from onnxruntime>=1.14.1->chromadb) (1.13.2)\n",
      "Requirement already satisfied: deprecated>=1.2.6 in e:\\ides-tools\\anaconda\\envs\\rag-env\\lib\\site-packages (from opentelemetry-api>=1.2.0->chromadb) (1.2.14)\n",
      "Requirement already satisfied: importlib-metadata<=8.4.0,>=6.0 in e:\\ides-tools\\anaconda\\envs\\rag-env\\lib\\site-packages (from opentelemetry-api>=1.2.0->chromadb) (8.4.0)\n",
      "Requirement already satisfied: googleapis-common-protos~=1.52 in e:\\ides-tools\\anaconda\\envs\\rag-env\\lib\\site-packages (from opentelemetry-exporter-otlp-proto-grpc>=1.2.0->chromadb) (1.65.0)\n",
      "Requirement already satisfied: opentelemetry-exporter-otlp-proto-common==1.27.0 in e:\\ides-tools\\anaconda\\envs\\rag-env\\lib\\site-packages (from opentelemetry-exporter-otlp-proto-grpc>=1.2.0->chromadb) (1.27.0)\n",
      "Requirement already satisfied: opentelemetry-proto==1.27.0 in e:\\ides-tools\\anaconda\\envs\\rag-env\\lib\\site-packages (from opentelemetry-exporter-otlp-proto-grpc>=1.2.0->chromadb) (1.27.0)\n",
      "Requirement already satisfied: opentelemetry-instrumentation-asgi==0.48b0 in e:\\ides-tools\\anaconda\\envs\\rag-env\\lib\\site-packages (from opentelemetry-instrumentation-fastapi>=0.41b0->chromadb) (0.48b0)\n",
      "Requirement already satisfied: opentelemetry-instrumentation==0.48b0 in e:\\ides-tools\\anaconda\\envs\\rag-env\\lib\\site-packages (from opentelemetry-instrumentation-fastapi>=0.41b0->chromadb) (0.48b0)\n",
      "Requirement already satisfied: opentelemetry-semantic-conventions==0.48b0 in e:\\ides-tools\\anaconda\\envs\\rag-env\\lib\\site-packages (from opentelemetry-instrumentation-fastapi>=0.41b0->chromadb) (0.48b0)\n",
      "Requirement already satisfied: opentelemetry-util-http==0.48b0 in e:\\ides-tools\\anaconda\\envs\\rag-env\\lib\\site-packages (from opentelemetry-instrumentation-fastapi>=0.41b0->chromadb) (0.48b0)\n",
      "Requirement already satisfied: setuptools>=16.0 in e:\\ides-tools\\anaconda\\envs\\rag-env\\lib\\site-packages (from opentelemetry-instrumentation==0.48b0->opentelemetry-instrumentation-fastapi>=0.41b0->chromadb) (72.1.0)\n",
      "Requirement already satisfied: wrapt<2.0.0,>=1.0.0 in e:\\ides-tools\\anaconda\\envs\\rag-env\\lib\\site-packages (from opentelemetry-instrumentation==0.48b0->opentelemetry-instrumentation-fastapi>=0.41b0->chromadb) (1.16.0)\n",
      "Requirement already satisfied: asgiref~=3.0 in e:\\ides-tools\\anaconda\\envs\\rag-env\\lib\\site-packages (from opentelemetry-instrumentation-asgi==0.48b0->opentelemetry-instrumentation-fastapi>=0.41b0->chromadb) (3.8.1)\n",
      "Requirement already satisfied: monotonic>=1.5 in e:\\ides-tools\\anaconda\\envs\\rag-env\\lib\\site-packages (from posthog>=2.4.0->chromadb) (1.6)\n",
      "Requirement already satisfied: backoff>=1.10.0 in e:\\ides-tools\\anaconda\\envs\\rag-env\\lib\\site-packages (from posthog>=2.4.0->chromadb) (2.2.1)\n",
      "Requirement already satisfied: annotated-types>=0.6.0 in e:\\ides-tools\\anaconda\\envs\\rag-env\\lib\\site-packages (from pydantic>=1.9->chromadb) (0.7.0)\n",
      "Requirement already satisfied: pydantic-core==2.23.3 in e:\\ides-tools\\anaconda\\envs\\rag-env\\lib\\site-packages (from pydantic>=1.9->chromadb) (2.23.3)\n",
      "Requirement already satisfied: huggingface-hub<1.0,>=0.16.4 in e:\\ides-tools\\anaconda\\envs\\rag-env\\lib\\site-packages (from tokenizers>=0.13.2->chromadb) (0.24.7)\n",
      "Requirement already satisfied: click>=8.0.0 in e:\\ides-tools\\anaconda\\envs\\rag-env\\lib\\site-packages (from typer>=0.9.0->chromadb) (8.1.7)\n",
      "Requirement already satisfied: shellingham>=1.3.0 in e:\\ides-tools\\anaconda\\envs\\rag-env\\lib\\site-packages (from typer>=0.9.0->chromadb) (1.5.4)\n",
      "Requirement already satisfied: rich>=10.11.0 in e:\\ides-tools\\anaconda\\envs\\rag-env\\lib\\site-packages (from typer>=0.9.0->chromadb) (13.8.1)\n",
      "Requirement already satisfied: httptools>=0.5.0 in e:\\ides-tools\\anaconda\\envs\\rag-env\\lib\\site-packages (from uvicorn[standard]>=0.18.3->chromadb) (0.6.1)\n",
      "Requirement already satisfied: python-dotenv>=0.13 in e:\\ides-tools\\anaconda\\envs\\rag-env\\lib\\site-packages (from uvicorn[standard]>=0.18.3->chromadb) (1.0.1)\n",
      "Requirement already satisfied: watchfiles>=0.13 in e:\\ides-tools\\anaconda\\envs\\rag-env\\lib\\site-packages (from uvicorn[standard]>=0.18.3->chromadb) (0.24.0)\n",
      "Requirement already satisfied: websockets>=10.4 in e:\\ides-tools\\anaconda\\envs\\rag-env\\lib\\site-packages (from uvicorn[standard]>=0.18.3->chromadb) (13.0.1)\n",
      "Requirement already satisfied: cachetools<6.0,>=2.0.0 in e:\\ides-tools\\anaconda\\envs\\rag-env\\lib\\site-packages (from google-auth>=1.0.1->kubernetes>=28.1.0->chromadb) (5.5.0)\n",
      "Requirement already satisfied: pyasn1-modules>=0.2.1 in e:\\ides-tools\\anaconda\\envs\\rag-env\\lib\\site-packages (from google-auth>=1.0.1->kubernetes>=28.1.0->chromadb) (0.4.1)\n",
      "Requirement already satisfied: rsa<5,>=3.1.4 in e:\\ides-tools\\anaconda\\envs\\rag-env\\lib\\site-packages (from google-auth>=1.0.1->kubernetes>=28.1.0->chromadb) (4.9)\n",
      "Requirement already satisfied: filelock in e:\\ides-tools\\anaconda\\envs\\rag-env\\lib\\site-packages (from huggingface-hub<1.0,>=0.16.4->tokenizers>=0.13.2->chromadb) (3.16.0)\n",
      "Requirement already satisfied: fsspec>=2023.5.0 in e:\\ides-tools\\anaconda\\envs\\rag-env\\lib\\site-packages (from huggingface-hub<1.0,>=0.16.4->tokenizers>=0.13.2->chromadb) (2024.9.0)\n",
      "Requirement already satisfied: zipp>=0.5 in e:\\ides-tools\\anaconda\\envs\\rag-env\\lib\\site-packages (from importlib-metadata<=8.4.0,>=6.0->opentelemetry-api>=1.2.0->chromadb) (3.20.2)\n",
      "Requirement already satisfied: charset-normalizer<4,>=2 in e:\\ides-tools\\anaconda\\envs\\rag-env\\lib\\site-packages (from requests->kubernetes>=28.1.0->chromadb) (3.3.2)\n",
      "Requirement already satisfied: markdown-it-py>=2.2.0 in e:\\ides-tools\\anaconda\\envs\\rag-env\\lib\\site-packages (from rich>=10.11.0->typer>=0.9.0->chromadb) (3.0.0)\n",
      "Requirement already satisfied: pygments<3.0.0,>=2.13.0 in e:\\ides-tools\\anaconda\\envs\\rag-env\\lib\\site-packages (from rich>=10.11.0->typer>=0.9.0->chromadb) (2.18.0)\n",
      "Requirement already satisfied: exceptiongroup>=1.0.2 in e:\\ides-tools\\anaconda\\envs\\rag-env\\lib\\site-packages (from anyio->httpx>=0.27.0->chromadb) (1.2.2)\n",
      "Requirement already satisfied: humanfriendly>=9.1 in e:\\ides-tools\\anaconda\\envs\\rag-env\\lib\\site-packages (from coloredlogs->onnxruntime>=1.14.1->chromadb) (10.0)\n",
      "Requirement already satisfied: mpmath<1.4,>=1.1.0 in e:\\ides-tools\\anaconda\\envs\\rag-env\\lib\\site-packages (from sympy->onnxruntime>=1.14.1->chromadb) (1.3.0)\n",
      "Requirement already satisfied: pyreadline3 in e:\\ides-tools\\anaconda\\envs\\rag-env\\lib\\site-packages (from humanfriendly>=9.1->coloredlogs->onnxruntime>=1.14.1->chromadb) (3.5.2)\n",
      "Requirement already satisfied: mdurl~=0.1 in e:\\ides-tools\\anaconda\\envs\\rag-env\\lib\\site-packages (from markdown-it-py>=2.2.0->rich>=10.11.0->typer>=0.9.0->chromadb) (0.1.2)\n",
      "Requirement already satisfied: pyasn1<0.7.0,>=0.4.6 in e:\\ides-tools\\anaconda\\envs\\rag-env\\lib\\site-packages (from pyasn1-modules>=0.2.1->google-auth>=1.0.1->kubernetes>=28.1.0->chromadb) (0.6.1)\n",
      "Requirement already satisfied: gpt4all in e:\\ides-tools\\anaconda\\envs\\rag-env\\lib\\site-packages (2.8.2)\n",
      "Requirement already satisfied: requests in c:\\users\\cantt computer\\appdata\\roaming\\python\\python310\\site-packages (from gpt4all) (2.31.0)\n",
      "Requirement already satisfied: tqdm in e:\\ides-tools\\anaconda\\envs\\rag-env\\lib\\site-packages (from gpt4all) (4.66.5)\n",
      "Requirement already satisfied: typing-extensions>=4.3.0 in e:\\ides-tools\\anaconda\\envs\\rag-env\\lib\\site-packages (from gpt4all) (4.12.2)\n",
      "Requirement already satisfied: charset-normalizer<4,>=2 in e:\\ides-tools\\anaconda\\envs\\rag-env\\lib\\site-packages (from requests->gpt4all) (3.3.2)\n",
      "Requirement already satisfied: idna<4,>=2.5 in e:\\ides-tools\\anaconda\\envs\\rag-env\\lib\\site-packages (from requests->gpt4all) (3.10)\n",
      "Requirement already satisfied: urllib3<3,>=1.21.1 in e:\\ides-tools\\anaconda\\envs\\rag-env\\lib\\site-packages (from requests->gpt4all) (2.2.3)\n",
      "Requirement already satisfied: certifi>=2017.4.17 in c:\\users\\cantt computer\\appdata\\roaming\\python\\python310\\site-packages (from requests->gpt4all) (2023.5.7)\n",
      "Requirement already satisfied: colorama in c:\\users\\cantt computer\\appdata\\roaming\\python\\python310\\site-packages (from tqdm->gpt4all) (0.4.6)\n",
      "Requirement already satisfied: tqdm in e:\\ides-tools\\anaconda\\envs\\rag-env\\lib\\site-packages (4.66.5)\n",
      "Requirement already satisfied: colorama in c:\\users\\cantt computer\\appdata\\roaming\\python\\python310\\site-packages (from tqdm) (0.4.6)\n"
     ]
    }
   ],
   "source": [
    "# for preprocessing html data  \n",
    "!pip install beautifulsoup4\n",
    "\n",
    "# For RAG\n",
    "!pip install langchain\n",
    "!pip install langchainhub\n",
    "!pip install chromadb\n",
    "!pip install gpt4all\n",
    "\n",
    "!pip install tqdm\n",
    "\n",
    "# Needed if using LlamaCpp from LangChain\n",
    "# !pip install llama-cpp-python\n"
   ]
  },
  {
   "cell_type": "code",
   "execution_count": 3,
   "id": "5b682100-2f68-4f9b-b6bb-b81f50492d8c",
   "metadata": {},
   "outputs": [],
   "source": [
    "from tqdm import tqdm\n",
    "\n",
    "# To deal with emails \n",
    "import email\n",
    "from email.policy import default\n",
    "from bs4 import BeautifulSoup"
   ]
  },
  {
   "cell_type": "code",
   "execution_count": 4,
   "id": "5372c615-e865-46c8-be5c-930a8182c665",
   "metadata": {},
   "outputs": [
    {
     "name": "stderr",
     "output_type": "stream",
     "text": [
      "e:\\IDEs-tools\\anaconda\\envs\\rag-env\\lib\\site-packages\\pydantic\\_internal\\_fields.py:132: UserWarning: Field \"model_name\" in GPT4AllEmbeddings has conflict with protected namespace \"model_\".\n",
      "\n",
      "You may be able to resolve this warning by setting `model_config['protected_namespaces'] = ()`.\n",
      "  warnings.warn(\n"
     ]
    }
   ],
   "source": [
    "from langchain_text_splitters import RecursiveCharacterTextSplitter\n",
    "from langchain_community.embeddings import GPT4AllEmbeddings\n",
    "from langchain_community.vectorstores import Chroma\n",
    "from langchain_community.llms import LlamaCpp\n",
    "from langchain_core.output_parsers import StrOutputParser\n",
    "from langchain.docstore.document import Document\n",
    "from langchain import hub\n",
    "from langchain_core.runnables import RunnablePassthrough"
   ]
  },
  {
   "cell_type": "markdown",
   "id": "6338f115-f502-4efb-9e90-88e020bd8baf",
   "metadata": {},
   "source": [
    "# Preprocess the Promotion Emails"
   ]
  },
  {
   "cell_type": "code",
   "execution_count": 6,
   "id": "14ae5ca6-52c0-42a1-b71a-43f1fce31d01",
   "metadata": {},
   "outputs": [],
   "source": [
    "# code from Stack Overflow:\n",
    "# https://stackoverflow.com/questions/59681461/read-a-big-mbox-file-with-python\n",
    "class MboxReader:\n",
    "    def __init__(self, filename):\n",
    "        self.handle = open(filename, 'rb')\n",
    "        assert self.handle.readline().startswith(b'From ')\n",
    "\n",
    "    def __enter__(self):\n",
    "        return self\n",
    "\n",
    "    def __exit__(self, exc_type, exc_value, exc_traceback):\n",
    "        self.handle.close()\n",
    "\n",
    "    def __iter__(self):\n",
    "        return iter(self.__next__())\n",
    "\n",
    "    def __next__(self):\n",
    "        lines = []\n",
    "        while True:\n",
    "            line = self.handle.readline()\n",
    "            if line == b'' or line.startswith(b'From '):\n",
    "                yield email.message_from_bytes(b''.join(lines), policy=default)\n",
    "                if line == b'':\n",
    "                    break\n",
    "                lines = []\n",
    "                continue\n",
    "            lines.append(line)"
   ]
  },
  {
   "cell_type": "code",
   "execution_count": 7,
   "id": "6232b056-da8d-48c5-aa5a-f3c5f53ec9b6",
   "metadata": {
    "scrolled": true
   },
   "outputs": [
    {
     "name": "stderr",
     "output_type": "stream",
     "text": [
      "13it [00:00, 20.89it/s]\n"
     ]
    }
   ],
   "source": [
    "path = \"./Takeout/Mail/Category_promotions.mbox\"\n",
    "mbox = MboxReader(path)\n",
    "emails_to_process = 10\n",
    "\n",
    "current_mails = 0\n",
    "promo_contents = \"\"\n",
    "for __, message in tqdm(enumerate(mbox)):\n",
    "    payload = message.get_payload(decode=True)\n",
    "    if payload:\n",
    "        current_mails += 1\n",
    "        if current_mails > emails_to_process:\n",
    "            break\n",
    "        soup = BeautifulSoup(payload, 'html.parser')\n",
    "        body_text = soup.get_text().replace('\"','').replace(\"\\n\", \"\").replace(\"\\t\", \"\").strip()\n",
    "        promo_contents += body_text + \" \""
   ]
  },
  {
   "cell_type": "code",
   "execution_count": 8,
   "id": "a9ad6023-2562-4ce0-884e-c9268e56ee84",
   "metadata": {
    "scrolled": true
   },
   "outputs": [
    {
     "data": {
      "text/plain": [
       "'autoTRADER | autoHEBDOCould this be your next car? Check it out at AutoTrader \\r            Find out what your car is worth instantly.\\xa0\\xa0Check  NowNew Price Drops for New & Used 2017 - 2024 Cars for sale in Toronto 32019 Chevrolet Cruze Mississauga, ON\\xa0  \\r59,000 km\\xa0 Mississauga, ON\\r$11,000View2019 Nissan LEAF Mississauga, ON\\xa0  \\r49,300 km\\xa0 Mississauga, ON\\r$12,500View Your Search Criteria:\\xa0New & Used 2017 - 2024 Cars for sale in Toronto 3\\r\\xa0\\rMake:Any\\rLocation:Toronto, ON\\rModel:Any\\rSearch Radius:50 km \\r\\xa0View ListingsDo more on AutoTrader\\r    \\xa0Latest Reviews and Advice\\r            \\xa0Check out our editorial page for all of the latest information, advice, and expert reviews on the world of vehicles!\\xa0\\r            \\xa0View Now\\r                \\xa0\\r \\xa0\\r    \\xa0Find Out What Your Car is Worth\\xa0There is no better time to sell your car! Use Instant Cash Offer for an accurate trade-in value for your vehicle. Just enter your vehicle details and instantly see how much a dealership is willing to pay.\\xa0\\r            \\xa0\\r            \\xa0Get Instant Cash Offer\\r                \\xa0\\r \\xa0\\r     You subscribed for these alerts on 08-31-2024. If you no longer wish to receive these alerts, unsubscribe here.\\r    You are receiving this email as you have opted in to receive email communications from TRADER Corporation. If you wish to unsubscribe, click here. 405 The West Mall, Ste. 110\\r Etobicoke, Ontario M9C 5J1CONTACT US | PRIVACY POLICY\\r © 2024 TRADER Corporation, All rights reserved. All other trademarks are the\\xa0property of their\\xa0respective owners. autoTRADER | autoHEBDOCould this be your next car? Check it out at AutoTrader \\r            Find out what your car is worth instantly.\\xa0\\xa0Check  NowIs your dream car in one of these 3 new listings? Check it out at AutoTrader.ca, Canada’s Most Trusted Place to Buy and Sell Cars3 New Listings for Used 2016 - 2023 Cars for sale in Toronto 7\\rStarting at $11,750.Your new listings for:Used 2016 - 2023 Cars for sale in Toronto 72016 smart fortwo electric drive Oakv...\\xa0  52,000 km\\xa0 Oakville, ON $11,750View 2017 Dodge Journey Mississauga, ON\\xa0  4,000 km\\xa0 Mississauga, ON $15,000View 2019 Hyundai Kona Peel, ON\\xa0  84,000 km\\xa0 Peel, ON $19,495View View AllNew Price Changes for:Used 2016 - 2023 Cars for sale in Toronto 72019 Chevrolet Cruze Mississauga, ON\\xa0  59,000 km\\xa0 Mississauga, ON $11,000View 2016 Ford Fiesta Toronto, ON\\xa0  47,000 km\\xa0 Toronto, ON $12,500View 2018 Chevrolet Trax Glen Williams, ON\\xa0  42,500 km\\xa0 Glen Williams, ON $17,500View 2019 Nissan Sentra North York, ON\\xa0  44,966 km\\xa0 North York, ON $18,700View 2019 Toyota Corolla Mississauga, ON\\xa0  41 km\\xa0 Mississauga, ON $20,000View Your Search Criteria:\\xa0Used 2016 - 2023 Cars for sale in Toronto 7\\r\\xa0\\rMake:Any\\rLocation:Toronto, ON\\rModel:Any\\rSearch Radius:50 km \\r\\xa0View ListingsDo more on AutoTrader\\r\\xa0Latest Reviews and Advice\\r\\xa0Check out our editorial page for all of the latest information, advice, and expert reviews on the world of vehicles!\\r\\xa0View Now\\r\\xa0\\r \\xa0\\r\\xa0Find Out What Your Car is Worth\\xa0There is no better time to sell your car! Use Instant Cash Offer for an accurate trade-in value for your vehicle. Just enter your vehicle details and instantly see how much a dealership is willing to pay.\\xa0Get Instant Cash Offer\\r \\xa0\\r     You subscribed for these alerts on 08-27-2024 . If you no longer wish to receive these alerts, unsubscribe here.\\r    You are receiving this email as you have opted in to receive email communications from TRADER Corporation. If you wish to unsubscribe, click here. 405 The West Mall, Ste. 110\\r Etobicoke, Ontario M9C 5J1CONTACT US | PRIVACY POLICY\\r © 2024 TRADER Corporation, All rights reserved. All other trademarks are the\\xa0property of their\\xa0respective owners. autoTRADER | autoHEBDOCould this be your next car? Check it out at AutoTrader \\r            Find out what your car is worth instantly.\\xa0\\xa0Check  NowNew Price Drops for Used 2016 - 2023 Cars for sale in Toronto 32019 Chevrolet Cruze Mississauga, ON\\xa0  \\r59,000 km\\xa0 Mississauga, ON\\r$11,000View2019 Nissan LEAF Mississauga, ON\\xa0  \\r49,300 km\\xa0 Mississauga, ON\\r$12,500View Your Search Criteria:\\xa0Used 2016 - 2023 Cars for sale in Toronto 3\\r\\xa0\\rMake:Any\\rLocation:Toronto, ON\\rModel:Any\\rSearch Radius:50 km \\r\\xa0View ListingsDo more on AutoTrader\\r    \\xa0Latest Reviews and Advice\\r            \\xa0Check out our editorial page for all of the latest information, advice, and expert reviews on the world of vehicles!\\xa0\\r            \\xa0View Now\\r                \\xa0\\r \\xa0\\r    \\xa0Find Out What Your Car is Worth\\xa0There is no better time to sell your car! Use Instant Cash Offer for an accurate trade-in value for your vehicle. Just enter your vehicle details and instantly see how much a dealership is willing to pay.\\xa0\\r            \\xa0\\r            \\xa0Get Instant Cash Offer\\r                \\xa0\\r \\xa0\\r     You subscribed for these alerts on 08-23-2024. If you no longer wish to receive these alerts, unsubscribe here.\\r    You are receiving this email as you have opted in to receive email communications from TRADER Corporation. If you wish to unsubscribe, click here. 405 The West Mall, Ste. 110\\r Etobicoke, Ontario M9C 5J1CONTACT US | PRIVACY POLICY\\r © 2024 TRADER Corporation, All rights reserved. All other trademarks are the\\xa0property of their\\xa0respective owners. autoTRADER | autoHEBDOCould this be your next car? Check it out at AutoTrader \\r            Find out what your car is worth instantly.\\xa0\\xa0Check  NowIs your dream car in one of these 2 new listings? Check it out at AutoTrader.ca, Canada’s Most Trusted Place to Buy and Sell Cars2 New Listings for New & Used 2017 - 2024 Cars for sale in Toronto 2\\rStarting at $11,500.Your new listings for:New & Used 2017 - 2024 Cars for sale in Toronto 22019 Chevrolet Cruze Mississauga, ON\\xa0  59,000 km\\xa0 Mississauga, ON $11,500View 2019 Nissan Sentra North York, ON\\xa0  49,513 km\\xa0 North York, ON $18,000View View AllNew Price Changes for:New & Used 2017 - 2024 Cars for sale in Toronto 22018 Nissan Sentra Toronto, ON\\xa0  45,000 km\\xa0 Toronto, ON $14,500View 2019 Volkswagen Jetta Toronto, ON\\xa0  42,220 km\\xa0 Toronto, ON $18,500View 2019 Nissan Sentra North York, ON\\xa0  44,966 km\\xa0 North York, ON $18,700View 2019 Toyota Corolla Mississauga, ON\\xa0  41 km\\xa0 Mississauga, ON $20,000View Your Search Criteria:\\xa0New & Used 2017 - 2024 Cars for sale in Toronto 2\\r\\xa0\\rMake:Any\\rLocation:Toronto, ON\\rModel:Any\\rSearch Radius:50 km \\r\\xa0View ListingsDo more on AutoTrader\\r\\xa0Latest Reviews and Advice\\r\\xa0Check out our editorial page for all of the latest information, advice, and expert reviews on the world of vehicles!\\r\\xa0View Now\\r\\xa0\\r \\xa0\\r\\xa0Find Out What Your Car is Worth\\xa0There is no better time to sell your car! Use Instant Cash Offer for an accurate trade-in value for your vehicle. Just enter your vehicle details and instantly see how much a dealership is willing to pay.\\xa0Get Instant Cash Offer\\r \\xa0\\r     You subscribed for these alerts on 08-31-2024 . If you no longer wish to receive these alerts, unsubscribe here.\\r    You are receiving this email as you have opted in to receive email communications from TRADER Corporation. If you wish to unsubscribe, click here. 405 The West Mall, Ste. 110\\r Etobicoke, Ontario M9C 5J1CONTACT US | PRIVACY POLICY\\r © 2024 TRADER Corporation, All rights reserved. All other trademarks are the\\xa0property of their\\xa0respective owners. autoTRADER | autoHEBDOCould this be your next car? Check it out at AutoTrader \\r            Find out what your car is worth instantly.\\xa0\\xa0Check  NowIs your dream car in one of these 56 new listings? Check it out at AutoTrader.ca, Canada’s Most Trusted Place to Buy and Sell Cars56 New Listings Similar To New & Used 2019 CarsYour new listings for:New & Used 2019 Cars2019 Nissan Rogue Brampton, ON\\xa0  121,660 km\\xa0 Brampton, ON $18,888 $1,819 BELOW MARKET View2019 Honda Civic Sedan Mississauga, ON\\xa0  67,647 km\\xa0 Mississauga, ON $24,550 $1,297 BELOW MARKET View2019 Honda CR-V Vaughan, ON\\xa0  73,097 km\\xa0 Vaughan, ON $25,495View2019 Volkswagen Jetta Mississauga, ON\\xa0  82,214 km\\xa0 Mississauga, ON $25,891 $180 BELOW MARKET View2019 Volkswagen Tiguan Mississauga, ON\\xa0  53,378 km\\xa0 Mississauga, ON $26,591 $3,246 BELOW MARKET ViewView AllNew Price Changes for:New & Used 2019 Cars2019 Hyundai Santa Fe Mississauga, ON\\xa0  138,918 km\\xa0 Mississauga, ON $16,055 $4,521 BELOW MARKET View2019 Nissan Rogue Woodbridge, ON\\xa0  119,127 km\\xa0 Woodbridge, ON $16,175 $3,743 BELOW MARKET View2019 MINI Clubman Brampton, ON\\xa0  62,455 km\\xa0 Brampton, ON $16,488View2019 Kia Soul Markham, ON\\xa0  58,347 km\\xa0 Markham, ON $16,988 $2,585 BELOW MARKET View2019 Kia Soul Markham, ON\\xa0  71,657 km\\xa0 Markham, ON $16,988 $2,926 BELOW MARKET ViewYour Search Criteria:\\xa0New & Used 2019 Cars\\r\\xa0\\rMake:Any\\rLocation:Toronto, ON\\rModel:Any\\rSearch Radius:50 km \\r\\xa0View ListingsDo more on AutoTrader\\r    \\xa0Latest Reviews and AdviceCheck out our editorial page for all of the latest information, advice, and expert reviews on the world of vehicles!View Now\\r                \\xa0\\r \\xa0\\r    \\xa0Find Out What Your Car is WorthThere is no better time to sell your car! Use Instant Cash Offer for an accurate trade-in value for your vehicle. Just enter your vehicle details and instantly see how much a dealership is willing to pay.\\xa0Get Instant Cash Offer\\r                \\xa0\\r \\xa0\\r     You subscribed for these alerts on 08-23-2024. If you no longer wish to receive these alerts, unsubscribe here.\\r    You are receiving this email as you have opted in to receive email communications from TRADER Corporation. If you wish to unsubscribe, click here. 405 The West Mall, Ste. 110\\r Etobicoke, Ontario M9C 5J1CONTACT US | PRIVACY POLICY\\r © 2024 TRADER Corporation, All rights reserved. All other trademarks are the\\xa0property of their\\xa0respective owners. autoTRADER | autoHEBDOCould this be your next car? Check it out at AutoTrader \\r            Find out what your car is worth instantly.\\xa0\\xa0Check  NowIs your dream car in one of these 2 new listings? Check it out at AutoTrader.ca, Canada’s Most Trusted Place to Buy and Sell Cars2 New Listings for New & Used 2017 - 2024 Cars for sale in Toronto 2\\rStarting at $5,500.Your new listings for:New & Used 2017 - 2024 Cars for sale in Toronto 22023 Honda HR-V Toronto, ON\\xa0  22,300 km\\xa0 Toronto, ON $5,500View 2018 Hyundai Sonata Brampton, ON\\xa0  17,000 km\\xa0 Brampton, ON $14,000View View AllNew Price Changes for:New & Used 2017 - 2024 Cars for sale in Toronto 22018 Chevrolet Trax Glen Williams, ON\\xa0  42,500 km\\xa0 Glen Williams, ON $17,500View 2018 Cadillac ATS Woodbridge, ON\\xa0  79,500 km\\xa0 Woodbridge, ON $19,999View Your Search Criteria:\\xa0New & Used 2017 - 2024 Cars for sale in Toronto 2\\r\\xa0\\rMake:Any\\rLocation:Toronto, ON\\rModel:Any\\rSearch Radius:50 km \\r\\xa0View ListingsDo more on AutoTrader\\r\\xa0Latest Reviews and Advice\\r\\xa0Check out our editorial page for all of the latest information, advice, and expert reviews on the world of vehicles!\\r\\xa0View Now\\r\\xa0\\r \\xa0\\r\\xa0Find Out What Your Car is Worth\\xa0There is no better time to sell your car! Use Instant Cash Offer for an accurate trade-in value for your vehicle. Just enter your vehicle details and instantly see how much a dealership is willing to pay.\\xa0Get Instant Cash Offer\\r \\xa0\\r     You subscribed for these alerts on 08-31-2024 . If you no longer wish to receive these alerts, unsubscribe here.\\r    You are receiving this email as you have opted in to receive email communications from TRADER Corporation. If you wish to unsubscribe, click here. 405 The West Mall, Ste. 110\\r Etobicoke, Ontario M9C 5J1CONTACT US | PRIVACY POLICY\\r © 2024 TRADER Corporation, All rights reserved. All other trademarks are the\\xa0property of their\\xa0respective owners. autoTRADER | autoHEBDOCould this be your next car? Check it out at AutoTrader \\r            Find out what your car is worth instantly.\\xa0\\xa0Check  NowIs your dream car in one of these 48 new listings? Check it out at AutoTrader.ca, Canada’s Most Trusted Place to Buy and Sell Cars48 New Listings Similar To New & Used 2018 CarsYour new listings for:New & Used 2018 Cars2018 Nissan Rogue Markham, ON\\xa0  110,405 km\\xa0 Markham, ON $18,995 $3,101 BELOW MARKET View2018 Mitsubishi Eclipse Cross Newmark...\\xa0  129,721 km\\xa0 Newmarket, ON $19,888 $667 ABOVE MARKET View2018 Honda Civic Sedan Scarborough, ON\\xa0  49,121 km\\xa0 Scarborough, ON $20,474 $2,356 BELOW MARKET View2018 Acura TLX Markham, ON\\xa0  98,729 km\\xa0 Markham, ON $22,995 $2,206 BELOW MARKET View2018 Chevrolet Cruze Mississauga, ON\\xa0  208,540 km\\xa0 Mississauga, ON $8,228 $4,179 BELOW MARKET ViewView AllNew Price Changes for:New & Used 2018 Cars2018 Toyota Corolla Toronto, ON\\xa0  168,000 km\\xa0 Toronto, ON $14,950 $2,142 BELOW MARKET View2018 Kia Forte Markham, ON\\xa0  55,342 km\\xa0 Markham, ON $16,588 $1,432 BELOW MARKET View2018 Kia Soul Markham, ON\\xa0  55,056 km\\xa0 Markham, ON $16,888 $2,418 BELOW MARKET View2018 Honda HR-V Oakville, ON\\xa0  188,643 km\\xa0 Oakville, ON $16,990 $89 BELOW MARKET View2018 Hyundai Tucson Toronto, ON\\xa0  107,005 km\\xa0 Toronto, ON $18,450 $2,055 BELOW MARKET ViewYour Search Criteria:\\xa0New & Used 2018 Cars\\r\\xa0\\rMake:Any\\rLocation:Toronto, ON\\rModel:Any\\rSearch Radius:50 km \\r\\xa0View ListingsDo more on AutoTrader\\r    \\xa0Latest Reviews and AdviceCheck out our editorial page for all of the latest information, advice, and expert reviews on the world of vehicles!View Now\\r                \\xa0\\r \\xa0\\r    \\xa0Find Out What Your Car is WorthThere is no better time to sell your car! Use Instant Cash Offer for an accurate trade-in value for your vehicle. Just enter your vehicle details and instantly see how much a dealership is willing to pay.\\xa0Get Instant Cash Offer\\r                \\xa0\\r \\xa0\\r     You subscribed for these alerts on 08-23-2024. If you no longer wish to receive these alerts, unsubscribe here.\\r    You are receiving this email as you have opted in to receive email communications from TRADER Corporation. If you wish to unsubscribe, click here. 405 The West Mall, Ste. 110\\r Etobicoke, Ontario M9C 5J1CONTACT US | PRIVACY POLICY\\r © 2024 TRADER Corporation, All rights reserved. All other trademarks are the\\xa0property of their\\xa0respective owners. autoTRADER | autoHEBDOCould this be your next car? Check it out at AutoTrader \\r            Find out what your car is worth instantly.\\xa0\\xa0Check  NowCould this be your next car? Check it out at AutoTrader.ca, Canada’s Most Trusted Place to Buy and Sell Cars1 New Listing for Used 2016 - 2023 Cars for sale in Toronto 6\\rStarting at $16,499.Your new listing for:Used 2016 - 2023 Cars for sale in Toronto 62018 Kia Forte York, ON\\xa0  88,000 km\\xa0 York, ON $16,499View View AllNew Price Changes for:Used 2016 - 2023 Cars for sale in Toronto 62016 Hyundai Elantra North York, ON\\xa0  68,000 km\\xa0 North York, ON $10,900View 2018 Hyundai Elantra Thornhill, ON\\xa0  90,000 km\\xa0 Thornhill, ON $14,499View 2018 Ford Fusion Stoney Creek, ON\\xa0  83,243 km\\xa0 Stoney Creek, ON $16,500View 2016 GMC Acadia Mississauga, ON\\xa0  85,500 km\\xa0 Mississauga, ON $16,999View 2018 Mercedes-Benz B-Class Georgetown...\\xa0  54,000 km\\xa0 Georgetown, ON $19,500View Your Search Criteria:\\xa0Used 2016 - 2023 Cars for sale in Toronto 6\\r\\xa0\\rMake:Any\\rLocation:Toronto, ON\\rModel:Any\\rSearch Radius:50 km \\r\\xa0View ListingsDo more on AutoTrader\\r\\xa0Latest Reviews and Advice\\r\\xa0Check out our editorial page for all of the latest information, advice, and expert reviews on the world of vehicles!\\r\\xa0View Now\\r\\xa0\\r \\xa0\\r\\xa0Find Out What Your Car is Worth\\xa0There is no better time to sell your car! Use Instant Cash Offer for an accurate trade-in value for your vehicle. Just enter your vehicle details and instantly see how much a dealership is willing to pay.\\xa0Get Instant Cash Offer\\r \\xa0\\r     You subscribed for these alerts on 08-27-2024 . If you no longer wish to receive these alerts, unsubscribe here.\\r    You are receiving this email as you have opted in to receive email communications from TRADER Corporation. If you wish to unsubscribe, click here. 405 The West Mall, Ste. 110\\r Etobicoke, Ontario M9C 5J1CONTACT US | PRIVACY POLICY\\r © 2024 TRADER Corporation, All rights reserved. All other trademarks are the\\xa0property of their\\xa0respective owners. autoTRADER | autoHEBDOCould this be your next car? Check it out at AutoTrader \\r            Find out what your car is worth instantly.\\xa0\\xa0Check  NowIs your dream car in one of these 2 new listings? Check it out at AutoTrader.ca, Canada’s Most Trusted Place to Buy and Sell Cars2 New Listings for Used 2016 - 2023 Cars for sale in Toronto 2\\rStarting at $11,500.Your new listings for:Used 2016 - 2023 Cars for sale in Toronto 22019 Chevrolet Cruze Mississauga, ON\\xa0  59,000 km\\xa0 Mississauga, ON $11,500View 2019 Nissan Sentra North York, ON\\xa0  49,513 km\\xa0 North York, ON $18,000View View AllNew Price Changes for:Used 2016 - 2023 Cars for sale in Toronto 22016 Hyundai Sonata Mississauga, ON\\xa0  16,000 km\\xa0 Mississauga, ON $10,900View 2018 Hyundai Elantra Thornhill, ON\\xa0  90,000 km\\xa0 Thornhill, ON $14,499View 2018 Nissan Sentra Toronto, ON\\xa0  45,000 km\\xa0 Toronto, ON $14,500View 2016 GMC Acadia Mississauga, ON\\xa0  85,500 km\\xa0 Mississauga, ON $16,999View 2016 Mercedes-Benz GLA Scarborough, ON\\xa0  88,000 km\\xa0 Scarborough, ON $17,000View Your Search Criteria:\\xa0Used 2016 - 2023 Cars for sale in Toronto 2\\r\\xa0\\rMake:Any\\rLocation:Toronto, ON\\rModel:Any\\rSearch Radius:50 km \\r\\xa0View ListingsDo more on AutoTrader\\r\\xa0Latest Reviews and Advice\\r\\xa0Check out our editorial page for all of the latest information, advice, and expert reviews on the world of vehicles!\\r\\xa0View Now\\r\\xa0\\r \\xa0\\r\\xa0Find Out What Your Car is Worth\\xa0There is no better time to sell your car! Use Instant Cash Offer for an accurate trade-in value for your vehicle. Just enter your vehicle details and instantly see how much a dealership is willing to pay.\\xa0Get Instant Cash Offer\\r \\xa0\\r     You subscribed for these alerts on 08-23-2024 . If you no longer wish to receive these alerts, unsubscribe here.\\r    You are receiving this email as you have opted in to receive email communications from TRADER Corporation. If you wish to unsubscribe, click here. 405 The West Mall, Ste. 110\\r Etobicoke, Ontario M9C 5J1CONTACT US | PRIVACY POLICY\\r © 2024 TRADER Corporation, All rights reserved. All other trademarks are the\\xa0property of their\\xa0respective owners. autoTRADER | autoHEBDOCould this be your next car? Check it out at AutoTrader \\r            Find out what your car is worth instantly.\\xa0\\xa0Check  NowNew Price Drops for Used 2016 - 2023 Cars for sale in Toronto 12019 Chevrolet Cruze Mississauga, ON\\xa0  \\r59,000 km\\xa0 Mississauga, ON\\r$11,000View2019 Nissan LEAF Mississauga, ON\\xa0  \\r49,300 km\\xa0 Mississauga, ON\\r$12,500View Your Search Criteria:\\xa0Used 2016 - 2023 Cars for sale in Toronto 1\\r\\xa0\\rMake:Any\\rLocation:Toronto, ON\\rModel:Any\\rSearch Radius:50 km \\r\\xa0View ListingsDo more on AutoTrader\\r    \\xa0Latest Reviews and Advice\\r            \\xa0Check out our editorial page for all of the latest information, advice, and expert reviews on the world of vehicles!\\xa0\\r            \\xa0View Now\\r                \\xa0\\r \\xa0\\r    \\xa0Find Out What Your Car is Worth\\xa0There is no better time to sell your car! Use Instant Cash Offer for an accurate trade-in value for your vehicle. Just enter your vehicle details and instantly see how much a dealership is willing to pay.\\xa0\\r            \\xa0\\r            \\xa0Get Instant Cash Offer\\r                \\xa0\\r \\xa0\\r     You subscribed for these alerts on 08-23-2024. If you no longer wish to receive these alerts, unsubscribe here.\\r    You are receiving this email as you have opted in to receive email communications from TRADER Corporation. If you wish to unsubscribe, click here. 405 The West Mall, Ste. 110\\r Etobicoke, Ontario M9C 5J1CONTACT US | PRIVACY POLICY\\r © 2024 TRADER Corporation, All rights reserved. All other trademarks are the\\xa0property of their\\xa0respective owners. '"
      ]
     },
     "execution_count": 8,
     "metadata": {},
     "output_type": "execute_result"
    }
   ],
   "source": [
    "promo_contents"
   ]
  },
  {
   "cell_type": "code",
   "execution_count": 9,
   "id": "14b662e3-d5d6-4024-ab12-c4a9acf51282",
   "metadata": {},
   "outputs": [],
   "source": [
    "# write the arxiv emails into a txt file\n",
    "with open(\"promo_contents.txt\", \"w\", encoding=\"utf-8\") as f:\n",
    " f.write(promo_contents)"
   ]
  },
  {
   "cell_type": "markdown",
   "id": "bd20084d-d394-4bb6-baba-86834ebefe41",
   "metadata": {},
   "source": [
    "### convert text document to langchain document format"
   ]
  },
  {
   "cell_type": "code",
   "execution_count": 10,
   "id": "e7efa239-673a-4252-873e-b7ab6d5596f7",
   "metadata": {},
   "outputs": [],
   "source": [
    "doc = Document(page_content=promo_contents, \n",
    "                metadata={\"source\": \"local\"})\n",
    "\n",
    "# split into different chunks\n",
    "# chunk_size and chunk_overlap are a hyperparameters we choose \n",
    "text_splitter = RecursiveCharacterTextSplitter(chunk_size=500, chunk_overlap=20)\n",
    "\n",
    "# split the documents and convert to vector stores\n",
    "all_splits = text_splitter.split_documents([doc])\n",
    "vector_store = Chroma.from_documents(documents=all_splits, \n",
    "                                     embedding=GPT4AllEmbeddings())"
   ]
  },
  {
   "cell_type": "markdown",
   "id": "76a32570-d9c7-4af1-ac0f-91eb9099b6ba",
   "metadata": {},
   "source": [
    "### If using fine-tuned model, quantize to GGUF Format\n",
    "For fine-tuning a given LLM, checkout [this video](https://youtu.be/_xxGMSVLwU8?feature=shared)\n",
    "\n",
    "For quantizing, we can either: \n",
    "- Use the llama.cpp library written in C,C++ for this. Checkout [this video](https://youtu.be/j7ahltwlFH0?feature=shared)\n",
    "- Or we can use LangChain's functionality. \n",
    "\n",
    "In any case we need the model to be converted to `gguf` format to run on the CPU."
   ]
  },
  {
   "cell_type": "markdown",
   "id": "5898ca93-a27c-480e-8bea-7aafe403ba9f",
   "metadata": {},
   "source": [
    "## Load the quantize LLM model \n",
    "For the quantized model, we can either, \n",
    "- Use the LlamaCpp class from LangChain\n",
    "- Use the GPT4All library\n",
    "\n",
    "In any case, the models need to be quantized models"
   ]
  },
  {
   "cell_type": "markdown",
   "id": "ab9daab2-07f3-4206-8f03-06ea59a30712",
   "metadata": {},
   "source": [
    "### Either use LlamaCpp as below"
   ]
  },
  {
   "cell_type": "code",
   "execution_count": 62,
   "id": "993118d5-bf85-4613-a5cb-1bac4d2827e6",
   "metadata": {},
   "outputs": [
    {
     "ename": "ImportError",
     "evalue": "Could not import llama-cpp-python library. Please install the llama-cpp-python library to use this embedding model: pip install llama-cpp-python",
     "output_type": "error",
     "traceback": [
      "\u001b[0;31m---------------------------------------------------------------------------\u001b[0m",
      "\u001b[0;31mModuleNotFoundError\u001b[0m                       Traceback (most recent call last)",
      "File \u001b[0;32m~/miniconda3/envs/rag/lib/python3.12/site-packages/langchain_community/llms/llamacpp.py:140\u001b[0m, in \u001b[0;36mLlamaCpp.validate_environment\u001b[0;34m(cls, values)\u001b[0m\n\u001b[1;32m    139\u001b[0m \u001b[38;5;28;01mtry\u001b[39;00m:\n\u001b[0;32m--> 140\u001b[0m     \u001b[38;5;28;01mfrom\u001b[39;00m \u001b[38;5;21;01mllama_cpp\u001b[39;00m \u001b[38;5;28;01mimport\u001b[39;00m Llama, LlamaGrammar\n\u001b[1;32m    141\u001b[0m \u001b[38;5;28;01mexcept\u001b[39;00m \u001b[38;5;167;01mImportError\u001b[39;00m:\n",
      "\u001b[0;31mModuleNotFoundError\u001b[0m: No module named 'llama_cpp'",
      "\nDuring handling of the above exception, another exception occurred:\n",
      "\u001b[0;31mImportError\u001b[0m                               Traceback (most recent call last)",
      "Cell \u001b[0;32mIn[62], line 7\u001b[0m\n\u001b[1;32m      4\u001b[0m quantized_gguf_model \u001b[38;5;241m=\u001b[39m \u001b[38;5;124m\"\u001b[39m\u001b[38;5;124m../generative-ai-course/quantized_models/ft-Q8_K_M.gguf\u001b[39m\u001b[38;5;124m\"\u001b[39m\n\u001b[1;32m      6\u001b[0m \u001b[38;5;66;03m# Initiate the LlamaCpp class to run the LLM\u001b[39;00m\n\u001b[0;32m----> 7\u001b[0m llm \u001b[38;5;241m=\u001b[39m \u001b[43mLlamaCpp\u001b[49m\u001b[43m(\u001b[49m\n\u001b[1;32m      8\u001b[0m \u001b[43m    \u001b[49m\u001b[43mmodel_path\u001b[49m\u001b[38;5;241;43m=\u001b[39;49m\u001b[43mquantized_gguf_model\u001b[49m\u001b[43m,\u001b[49m\n\u001b[1;32m      9\u001b[0m \u001b[43m    \u001b[49m\u001b[43mn_gpu_layers\u001b[49m\u001b[38;5;241;43m=\u001b[39;49m\u001b[43mn_gpu_layers\u001b[49m\u001b[43m,\u001b[49m\n\u001b[1;32m     10\u001b[0m \u001b[43m    \u001b[49m\u001b[43mn_batch\u001b[49m\u001b[38;5;241;43m=\u001b[39;49m\u001b[43mn_batch\u001b[49m\u001b[43m,\u001b[49m\n\u001b[1;32m     11\u001b[0m \u001b[43m    \u001b[49m\u001b[43mn_ctx\u001b[49m\u001b[38;5;241;43m=\u001b[39;49m\u001b[38;5;241;43m1024\u001b[39;49m\u001b[43m,\u001b[49m\n\u001b[1;32m     12\u001b[0m \u001b[43m    \u001b[49m\u001b[43mf16_kv\u001b[49m\u001b[38;5;241;43m=\u001b[39;49m\u001b[38;5;28;43;01mTrue\u001b[39;49;00m\u001b[43m,\u001b[49m\n\u001b[1;32m     13\u001b[0m \u001b[43m    \u001b[49m\u001b[43mverbose\u001b[49m\u001b[38;5;241;43m=\u001b[39;49m\u001b[38;5;28;43;01mTrue\u001b[39;49;00m\u001b[43m,\u001b[49m\n\u001b[1;32m     14\u001b[0m \u001b[43m)\u001b[49m\n",
      "File \u001b[0;32m~/miniconda3/envs/rag/lib/python3.12/site-packages/langchain_core/load/serializable.py:120\u001b[0m, in \u001b[0;36mSerializable.__init__\u001b[0;34m(self, **kwargs)\u001b[0m\n\u001b[1;32m    119\u001b[0m \u001b[38;5;28;01mdef\u001b[39;00m \u001b[38;5;21m__init__\u001b[39m(\u001b[38;5;28mself\u001b[39m, \u001b[38;5;241m*\u001b[39m\u001b[38;5;241m*\u001b[39mkwargs: Any) \u001b[38;5;241m-\u001b[39m\u001b[38;5;241m>\u001b[39m \u001b[38;5;28;01mNone\u001b[39;00m:\n\u001b[0;32m--> 120\u001b[0m     \u001b[38;5;28;43msuper\u001b[39;49m\u001b[43m(\u001b[49m\u001b[43m)\u001b[49m\u001b[38;5;241;43m.\u001b[39;49m\u001b[38;5;21;43m__init__\u001b[39;49m\u001b[43m(\u001b[49m\u001b[38;5;241;43m*\u001b[39;49m\u001b[38;5;241;43m*\u001b[39;49m\u001b[43mkwargs\u001b[49m\u001b[43m)\u001b[49m\n\u001b[1;32m    121\u001b[0m     \u001b[38;5;28mself\u001b[39m\u001b[38;5;241m.\u001b[39m_lc_kwargs \u001b[38;5;241m=\u001b[39m kwargs\n",
      "File \u001b[0;32m~/miniconda3/envs/rag/lib/python3.12/site-packages/pydantic/v1/main.py:339\u001b[0m, in \u001b[0;36mBaseModel.__init__\u001b[0;34m(__pydantic_self__, **data)\u001b[0m\n\u001b[1;32m    333\u001b[0m \u001b[38;5;250m\u001b[39m\u001b[38;5;124;03m\"\"\"\u001b[39;00m\n\u001b[1;32m    334\u001b[0m \u001b[38;5;124;03mCreate a new model by parsing and validating input data from keyword arguments.\u001b[39;00m\n\u001b[1;32m    335\u001b[0m \n\u001b[1;32m    336\u001b[0m \u001b[38;5;124;03mRaises ValidationError if the input data cannot be parsed to form a valid model.\u001b[39;00m\n\u001b[1;32m    337\u001b[0m \u001b[38;5;124;03m\"\"\"\u001b[39;00m\n\u001b[1;32m    338\u001b[0m \u001b[38;5;66;03m# Uses something other than `self` the first arg to allow \"self\" as a settable attribute\u001b[39;00m\n\u001b[0;32m--> 339\u001b[0m values, fields_set, validation_error \u001b[38;5;241m=\u001b[39m \u001b[43mvalidate_model\u001b[49m\u001b[43m(\u001b[49m\u001b[43m__pydantic_self__\u001b[49m\u001b[38;5;241;43m.\u001b[39;49m\u001b[38;5;18;43m__class__\u001b[39;49m\u001b[43m,\u001b[49m\u001b[43m \u001b[49m\u001b[43mdata\u001b[49m\u001b[43m)\u001b[49m\n\u001b[1;32m    340\u001b[0m \u001b[38;5;28;01mif\u001b[39;00m validation_error:\n\u001b[1;32m    341\u001b[0m     \u001b[38;5;28;01mraise\u001b[39;00m validation_error\n",
      "File \u001b[0;32m~/miniconda3/envs/rag/lib/python3.12/site-packages/pydantic/v1/main.py:1100\u001b[0m, in \u001b[0;36mvalidate_model\u001b[0;34m(model, input_data, cls)\u001b[0m\n\u001b[1;32m   1098\u001b[0m     \u001b[38;5;28;01mcontinue\u001b[39;00m\n\u001b[1;32m   1099\u001b[0m \u001b[38;5;28;01mtry\u001b[39;00m:\n\u001b[0;32m-> 1100\u001b[0m     values \u001b[38;5;241m=\u001b[39m \u001b[43mvalidator\u001b[49m\u001b[43m(\u001b[49m\u001b[43mcls_\u001b[49m\u001b[43m,\u001b[49m\u001b[43m \u001b[49m\u001b[43mvalues\u001b[49m\u001b[43m)\u001b[49m\n\u001b[1;32m   1101\u001b[0m \u001b[38;5;28;01mexcept\u001b[39;00m (\u001b[38;5;167;01mValueError\u001b[39;00m, \u001b[38;5;167;01mTypeError\u001b[39;00m, \u001b[38;5;167;01mAssertionError\u001b[39;00m) \u001b[38;5;28;01mas\u001b[39;00m exc:\n\u001b[1;32m   1102\u001b[0m     errors\u001b[38;5;241m.\u001b[39mappend(ErrorWrapper(exc, loc\u001b[38;5;241m=\u001b[39mROOT_KEY))\n",
      "File \u001b[0;32m~/miniconda3/envs/rag/lib/python3.12/site-packages/langchain_community/llms/llamacpp.py:142\u001b[0m, in \u001b[0;36mLlamaCpp.validate_environment\u001b[0;34m(cls, values)\u001b[0m\n\u001b[1;32m    140\u001b[0m     \u001b[38;5;28;01mfrom\u001b[39;00m \u001b[38;5;21;01mllama_cpp\u001b[39;00m \u001b[38;5;28;01mimport\u001b[39;00m Llama, LlamaGrammar\n\u001b[1;32m    141\u001b[0m \u001b[38;5;28;01mexcept\u001b[39;00m \u001b[38;5;167;01mImportError\u001b[39;00m:\n\u001b[0;32m--> 142\u001b[0m     \u001b[38;5;28;01mraise\u001b[39;00m \u001b[38;5;167;01mImportError\u001b[39;00m(\n\u001b[1;32m    143\u001b[0m         \u001b[38;5;124m\"\u001b[39m\u001b[38;5;124mCould not import llama-cpp-python library. \u001b[39m\u001b[38;5;124m\"\u001b[39m\n\u001b[1;32m    144\u001b[0m         \u001b[38;5;124m\"\u001b[39m\u001b[38;5;124mPlease install the llama-cpp-python library to \u001b[39m\u001b[38;5;124m\"\u001b[39m\n\u001b[1;32m    145\u001b[0m         \u001b[38;5;124m\"\u001b[39m\u001b[38;5;124muse this embedding model: pip install llama-cpp-python\u001b[39m\u001b[38;5;124m\"\u001b[39m\n\u001b[1;32m    146\u001b[0m     )\n\u001b[1;32m    148\u001b[0m model_path \u001b[38;5;241m=\u001b[39m values[\u001b[38;5;124m\"\u001b[39m\u001b[38;5;124mmodel_path\u001b[39m\u001b[38;5;124m\"\u001b[39m]\n\u001b[1;32m    149\u001b[0m model_param_names \u001b[38;5;241m=\u001b[39m [\n\u001b[1;32m    150\u001b[0m     \u001b[38;5;124m\"\u001b[39m\u001b[38;5;124mrope_freq_scale\u001b[39m\u001b[38;5;124m\"\u001b[39m,\n\u001b[1;32m    151\u001b[0m     \u001b[38;5;124m\"\u001b[39m\u001b[38;5;124mrope_freq_base\u001b[39m\u001b[38;5;124m\"\u001b[39m,\n\u001b[0;32m   (...)\u001b[0m\n\u001b[1;32m    165\u001b[0m     \u001b[38;5;124m\"\u001b[39m\u001b[38;5;124mverbose\u001b[39m\u001b[38;5;124m\"\u001b[39m,\n\u001b[1;32m    166\u001b[0m ]\n",
      "\u001b[0;31mImportError\u001b[0m: Could not import llama-cpp-python library. Please install the llama-cpp-python library to use this embedding model: pip install llama-cpp-python"
     ]
    }
   ],
   "source": [
    "n_gpu_layers = 1 \n",
    "\n",
    "n_batch = 512\n",
    "quantized_gguf_model = \"../generative-ai-course/quantized_models/ft-Q8_K_M.gguf\"\n",
    "\n",
    "# Initiate the LlamaCpp class to run the LLM\n",
    "llm = LlamaCpp(\n",
    "    model_path=quantized_gguf_model,\n",
    "    n_gpu_layers=n_gpu_layers,\n",
    "    n_batch=n_batch,\n",
    "    n_ctx=1024,\n",
    "    f16_kv=True,\n",
    "    verbose=True,\n",
    ")"
   ]
  },
  {
   "cell_type": "markdown",
   "id": "1eb94348-9858-4717-a920-6dee8edac982",
   "metadata": {},
   "source": [
    "### Or use GPT4All as below"
   ]
  },
  {
   "cell_type": "code",
   "execution_count": 11,
   "id": "b221bc34-2467-4865-bf55-a1029b98e42f",
   "metadata": {},
   "outputs": [],
   "source": [
    "from langchain_community.llms import GPT4All\n",
    "#from gpt4all import GPT4All\n",
    "\n",
    "llm = GPT4All(\n",
    "    model=\"orca-mini-3b-gguf2-q4_0.gguf\",\n",
    "    max_tokens=2048, allow_download = True\n",
    ")\n",
    "# model = GPT4All(\n",
    "#     \"orca-mini-3b-gguf2-q4_0.gguf\"\n",
    "# )\n",
    "\n",
    "#llm.invoke(\"what is Retrieval Augmented Generation?\")"
   ]
  },
  {
   "cell_type": "code",
   "execution_count": 12,
   "id": "367abf7c",
   "metadata": {},
   "outputs": [
    {
     "data": {
      "text/plain": [
       "'\\nWhat is the price of Mazda3?'"
      ]
     },
     "execution_count": 12,
     "metadata": {},
     "output_type": "execute_result"
    }
   ],
   "source": [
    "llm.invoke(\"What is the price of mazda?\")"
   ]
  },
  {
   "cell_type": "markdown",
   "id": "a63a3f0b-6f77-49db-a5ef-6121a2f7b852",
   "metadata": {},
   "source": [
    "## Create the LangChain with and without RAG\n",
    "For a given prompt, \n",
    "- Create a langchain without retrieval and see the response\n",
    "- Create a langchain with the retrieval object\n",
    "\n",
    "And see how the response differs"
   ]
  },
  {
   "cell_type": "markdown",
   "id": "69637a08-d520-476d-a5f2-4c02f4f6cb9c",
   "metadata": {},
   "source": [
    "### LLM response without RAG"
   ]
  },
  {
   "cell_type": "code",
   "execution_count": 13,
   "id": "55283aa7-0835-4d05-9d8b-d4fd164e45c3",
   "metadata": {},
   "outputs": [
    {
     "name": "stderr",
     "output_type": "stream",
     "text": [
      "e:\\IDEs-tools\\anaconda\\envs\\rag-env\\lib\\site-packages\\langsmith\\client.py:322: LangSmithMissingAPIKeyWarning: API key must be provided when using hosted LangSmith API\n",
      "  warnings.warn(\n",
      "e:\\IDEs-tools\\anaconda\\envs\\rag-env\\lib\\site-packages\\langsmith\\client.py:5301: LangChainBetaWarning: The function `loads` is in beta. It is actively being worked on, so the API may change.\n",
      "  prompt = loads(json.dumps(prompt_object.manifest))\n"
     ]
    },
    {
     "data": {
      "text/plain": [
       "' I am sorry, but I do not have enough information to provide an accurate answer to your question. Can you please provide me with more context or specific details about the Mazda3 that you are referring to?'"
      ]
     },
     "execution_count": 13,
     "metadata": {},
     "output_type": "execute_result"
    }
   ],
   "source": [
    "# retrieve relevant docs\n",
    "rag_prompt = hub.pull(\"rlm/rag-prompt\")\n",
    "retriever = vector_store.as_retriever()\n",
    "\n",
    "# Create the langchain with retriever\n",
    "qa_chain = (\n",
    "    {\"context\": {}, \"question\": RunnablePassthrough()}\n",
    "    | rag_prompt\n",
    "    | llm\n",
    "    | StrOutputParser()\n",
    ")\n",
    "qa_chain.invoke(\"what is the value of a mazda3?\")"
   ]
  },
  {
   "cell_type": "markdown",
   "id": "9fb9ac6a-6161-40c6-b6b9-106f5b7a7ec6",
   "metadata": {},
   "source": [
    "### LLM response with RAG"
   ]
  },
  {
   "cell_type": "code",
   "execution_count": 14,
   "id": "3ec52ba4-8995-4bca-90d8-1d2880a87e76",
   "metadata": {},
   "outputs": [
    {
     "name": "stderr",
     "output_type": "stream",
     "text": [
      "e:\\IDEs-tools\\anaconda\\envs\\rag-env\\lib\\site-packages\\langsmith\\client.py:322: LangSmithMissingAPIKeyWarning: API key must be provided when using hosted LangSmith API\n",
      "  warnings.warn(\n"
     ]
    },
    {
     "data": {
      "text/plain": [
       "[HumanMessagePromptTemplate(prompt=PromptTemplate(input_variables=['context', 'question'], input_types={}, partial_variables={}, template=\"You are an assistant for question-answering tasks. Use the following pieces of retrieved context to answer the question. If you don't know the answer, just say that you don't know. Use three sentences maximum and keep the answer concise.\\nQuestion: {question} \\nContext: {context} \\nAnswer:\"), additional_kwargs={})]"
      ]
     },
     "execution_count": 14,
     "metadata": {},
     "output_type": "execute_result"
    }
   ],
   "source": [
    "# retrieve relevant docs\n",
    "rag_prompt = hub.pull(\"rlm/rag-prompt\")\n",
    "rag_prompt.messages"
   ]
  },
  {
   "cell_type": "code",
   "execution_count": 15,
   "id": "b562a98c-4d85-49b7-b3d2-ec9c44ce81cc",
   "metadata": {},
   "outputs": [],
   "source": [
    "def format_documents(documents):\n",
    "    return \"\\n\\n\".join(doc.page_content for doc in documents)"
   ]
  },
  {
   "cell_type": "code",
   "execution_count": 16,
   "id": "27916a43-8eb0-4341-b1bd-18446886dbf1",
   "metadata": {},
   "outputs": [
    {
     "data": {
      "text/plain": [
       "' The average price of Mazda3 is $19,500.'"
      ]
     },
     "execution_count": 16,
     "metadata": {},
     "output_type": "execute_result"
    }
   ],
   "source": [
    "retriever = vector_store.as_retriever()\n",
    "\n",
    "# Create the langchain with retriever,\n",
    "# prompt template and LLM\n",
    "qa_chain = (\n",
    "    {\"context\": retriever | format_documents, \"question\": RunnablePassthrough()}\n",
    "    | rag_prompt\n",
    "    | llm\n",
    "    | StrOutputParser()\n",
    ")\n",
    "qa_chain.invoke(\"what is the average price of Mazda3?\")"
   ]
  }
 ],
 "metadata": {
  "kernelspec": {
   "display_name": "Python 3 (ipykernel)",
   "language": "python",
   "name": "python3"
  },
  "language_info": {
   "codemirror_mode": {
    "name": "ipython",
    "version": 3
   },
   "file_extension": ".py",
   "mimetype": "text/x-python",
   "name": "python",
   "nbconvert_exporter": "python",
   "pygments_lexer": "ipython3",
   "version": "3.10.14"
  }
 },
 "nbformat": 4,
 "nbformat_minor": 5
}
